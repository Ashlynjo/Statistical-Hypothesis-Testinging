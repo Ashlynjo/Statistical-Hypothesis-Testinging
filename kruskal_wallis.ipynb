{
  "nbformat": 4,
  "nbformat_minor": 0,
  "metadata": {
    "colab": {
      "provenance": []
    },
    "kernelspec": {
      "name": "python3",
      "display_name": "Python 3"
    },
    "language_info": {
      "name": "python"
    }
  },
  "cells": [
    {
      "cell_type": "code",
      "execution_count": null,
      "metadata": {
        "colab": {
          "base_uri": "https://localhost:8080/"
        },
        "id": "eYab0o8gld-G",
        "outputId": "a73faea6-6fbb-45b7-b2cf-b14d152720bb"
      },
      "outputs": [
        {
          "output_type": "stream",
          "name": "stdout",
          "text": [
            "Kruskal-Wallis Test Statistic: 218.616685991301\n",
            "Kruskal-Wallis p-value: 2.939540830073813e-45\n",
            "    Kruskal-Wallis Statistic  Kruskal-Wallis p-value Group1 Group2  \\\n",
            "0                 218.616686            2.939541e-45    NaN    NaN   \n",
            "1                        NaN                     NaN     s1     s2   \n",
            "2                        NaN                     NaN     s1     s3   \n",
            "3                        NaN                     NaN     s1     w1   \n",
            "4                        NaN                     NaN     s1     w2   \n",
            "5                        NaN                     NaN     s1     w3   \n",
            "6                        NaN                     NaN     s2     s3   \n",
            "7                        NaN                     NaN     s2     w1   \n",
            "8                        NaN                     NaN     s2     w2   \n",
            "9                        NaN                     NaN     s2     w3   \n",
            "10                       NaN                     NaN     s3     w1   \n",
            "11                       NaN                     NaN     s3     w2   \n",
            "12                       NaN                     NaN     s3     w3   \n",
            "13                       NaN                     NaN     w1     w2   \n",
            "14                       NaN                     NaN     w1     w3   \n",
            "15                       NaN                     NaN     w2     w3   \n",
            "\n",
            "     Statistic       p-value  Corrected p-value  \n",
            "0          NaN           NaN                NaN  \n",
            "1    50.863952  9.899511e-13       1.484927e-11  \n",
            "2    32.497455  1.193487e-08       1.790231e-07  \n",
            "3   110.549477  7.426846e-26       1.114027e-24  \n",
            "4     5.373370  2.044643e-02       3.066965e-01  \n",
            "5    81.504307  1.748800e-19       2.623200e-18  \n",
            "6     7.006316  8.122264e-03       1.218340e-01  \n",
            "7    25.499730  4.424449e-07       6.636674e-06  \n",
            "8    37.450651  9.375540e-10       1.406331e-08  \n",
            "9     8.829814  2.963485e-03       4.445228e-02  \n",
            "10   67.395082  2.222025e-16       3.333038e-15  \n",
            "11   17.341801  3.122425e-05       4.683637e-04  \n",
            "12   34.710126  3.826362e-09       5.739543e-08  \n",
            "13  121.214636  3.429469e-28       5.144204e-27  \n",
            "14    4.165734  4.124953e-02       6.187429e-01  \n",
            "15   81.007077  2.249108e-19       3.373662e-18  \n"
          ]
        }
      ],
      "source": [
        "import pandas as pd\n",
        "import numpy as np\n",
        "from scipy.stats import kruskal\n",
        "from itertools import combinations\n",
        "from statsmodels.stats.multitest import multipletests\n",
        "\n",
        "# Read data from an Excel file\n",
        "file_path = '/content/size outliers removed.xlsx'  # Replace with your file path\n",
        "data = pd.read_excel(file_path)\n",
        "\n",
        "# Specify the dataset columns you want to test\n",
        "datasets = ['s1', 's2', 's3', 'w1','w2','w3']\n",
        "\n",
        "# Create a list to hold the results\n",
        "results = []\n",
        "\n",
        "# Conduct the Kruskal-Wallis test\n",
        "all_data = [data[ds].dropna().values for ds in datasets]\n",
        "kruskal_stat, kruskal_p = kruskal(*all_data)\n",
        "\n",
        "# Print Kruskal-Wallis test results\n",
        "print(f\"Kruskal-Wallis Test Statistic: {kruskal_stat}\")\n",
        "print(f\"Kruskal-Wallis p-value: {kruskal_p}\")\n",
        "\n",
        "# If the Kruskal-Wallis test is significant, conduct pairwise comparisons\n",
        "if kruskal_p < 0.05:\n",
        "    for group1, group2 in combinations(datasets, 2):\n",
        "        # Perform pairwise Kruskal-Wallis test (or Wilcoxon rank-sum test)\n",
        "        stat, p_value = kruskal(data[group1].dropna().values, data[group2].dropna().values)\n",
        "        results.append({'Group1': group1, 'Group2': group2, 'Statistic': stat, 'p-value': p_value})\n",
        "\n",
        "    # Extract p-values for Bonferroni correction\n",
        "    p_values = [result['p-value'] for result in results]\n",
        "\n",
        "    # Apply Bonferroni correction\n",
        "    corrected_results = multipletests(p_values, method='bonferroni')\n",
        "\n",
        "    # Add corrected p-values to results\n",
        "    for i, result in enumerate(results):\n",
        "        result['Corrected p-value'] = corrected_results[1][i]\n",
        "\n",
        "    # Create a DataFrame for results\n",
        "    results_df = pd.DataFrame(results)\n",
        "\n",
        "    # Add Kruskal-Wallis results to the DataFrame\n",
        "    results_df = pd.concat([pd.DataFrame({'Kruskal-Wallis Statistic': [kruskal_stat], 'Kruskal-Wallis p-value': [kruskal_p]}), results_df], ignore_index=True)\n",
        "\n",
        "    # Output results to Excel\n",
        "    results_df.to_excel('kruskal_wallis_bonferroni_results.xlsx', index=False)\n",
        "\n",
        "    # Print results\n",
        "    print(results_df)\n",
        "else:\n",
        "    print(\"The Kruskal-Wallis test is not significant; no pairwise comparisons are performed.\")\n",
        "\n",
        "    # Create a DataFrame for the Kruskal-Wallis result\n",
        "    results_df = pd.DataFrame({'Kruskal-Wallis Statistic': [kruskal_stat], 'Kruskal-Wallis p-value': [kruskal_p]})\n",
        "\n",
        "    # Output results to Excel\n",
        "    results_df.to_excel('kruskal_wallis_bonferroni_results.xlsx', index=False)\n",
        "\n",
        "\n"
      ]
    }
  ]
}