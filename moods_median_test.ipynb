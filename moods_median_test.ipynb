{
  "nbformat": 4,
  "nbformat_minor": 0,
  "metadata": {
    "colab": {
      "provenance": []
    },
    "kernelspec": {
      "name": "python3",
      "display_name": "Python 3"
    },
    "language_info": {
      "name": "python"
    }
  },
  "cells": [
    {
      "cell_type": "code",
      "execution_count": null,
      "metadata": {
        "id": "HBJflt2gOxDp",
        "outputId": "55b05f72-819f-4cd0-f8dd-6fbff4f317bd",
        "colab": {
          "base_uri": "https://localhost:8080/"
        }
      },
      "outputs": [
        {
          "output_type": "stream",
          "name": "stdout",
          "text": [
            "Results saved to Excel file: /content/moods_median_test_results.xlsx\n"
          ]
        }
      ],
      "source": [
        "import pandas as pd\n",
        "import numpy as np\n",
        "from scipy.stats import chi2_contingency\n",
        "\n",
        "# Function to perform Mood's Median Test\n",
        "def moods_median_test(*groups):\n",
        "    # Combine all groups and find the overall median\n",
        "    all_data = np.concatenate(groups)\n",
        "    overall_median = np.median(all_data)\n",
        "\n",
        "    # Create contingency table: counts above and below the median for each group\n",
        "    contingency_table = []\n",
        "    for group in groups:\n",
        "        above_median = np.sum(group > overall_median)\n",
        "        below_median = np.sum(group <= overall_median)\n",
        "        contingency_table.append([above_median, below_median])\n",
        "\n",
        "    contingency_table = np.array(contingency_table)\n",
        "\n",
        "    # Perform Chi-square test on the contingency table\n",
        "    chi2, p_value, _, _ = chi2_contingency(contingency_table)\n",
        "\n",
        "    return chi2, p_value\n",
        "\n",
        "# Read the data from Excel file\n",
        "file_path = '/content/size outliers removed.xlsx'  # Replace with your file path\n",
        "data = pd.read_excel(file_path)\n",
        "\n",
        "# Assuming the datasets are in columns labeled 's1', 's2', 's3', 'w1', 'w2', 'w3'\n",
        "group1 = data['s1'].dropna().values  # Removing any NaN values\n",
        "group2 = data['s2'].dropna().values\n",
        "group3 = data['s3'].dropna().values\n",
        "group4 = data['w1'].dropna().values\n",
        "group5 = data['w2'].dropna().values\n",
        "group6 = data['w3'].dropna().values\n",
        "\n",
        "# Run Mood's Median Test on the six groups\n",
        "chi2, p_value = moods_median_test(group1, group2, group3, group4, group5, group6)\n",
        "\n",
        "# Prepare results for Excel output\n",
        "results = {\n",
        "    \"Chi-square statistic\": [chi2],\n",
        "    \"p-value\": [p_value],\n",
        "    \"Conclusion\": [\"Reject the null hypothesis (groups have different medians)\" if p_value < 0.05 else \"Fail to reject the null hypothesis (no significant difference in medians)\"]\n",
        "}\n",
        "\n",
        "# Create DataFrame and export to Excel\n",
        "results_df = pd.DataFrame(results)\n",
        "output_file_path = '/content/moods_median_test_results.xlsx'  # Replace with your desired output path\n",
        "results_df.to_excel(output_file_path, index=False)\n",
        "\n",
        "print(\"Results saved to Excel file:\", output_file_path)\n"
      ]
    },
    {
      "cell_type": "markdown",
      "source": [
        "Moods Median test\n"
      ],
      "metadata": {
        "id": "LPB1At2AOyy3"
      }
    }
  ]
}