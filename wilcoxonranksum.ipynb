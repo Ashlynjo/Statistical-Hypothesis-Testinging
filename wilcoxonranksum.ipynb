{
  "nbformat": 4,
  "nbformat_minor": 0,
  "metadata": {
    "colab": {
      "provenance": []
    },
    "kernelspec": {
      "name": "python3",
      "display_name": "Python 3"
    },
    "language_info": {
      "name": "python"
    }
  },
  "cells": [
    {
      "cell_type": "code",
      "execution_count": null,
      "metadata": {
        "colab": {
          "base_uri": "https://localhost:8080/"
        },
        "id": "WcBwqARnkWw1",
        "outputId": "4e75e410-b609-4719-feb8-ae4ecee0923b"
      },
      "outputs": [
        {
          "output_type": "stream",
          "name": "stdout",
          "text": [
            "                          0         1          2         3         4   \\\n",
            "Group 1                   s1        s1         s1        s1        s1   \n",
            "Group 2                   s2        s3         w1        w2        w3   \n",
            "Test Statistic (Z)  7.131866  5.700633  10.514196  2.318045  9.027935   \n",
            "p-value                  0.0       0.0        0.0  0.020447       0.0   \n",
            "\n",
            "                          5        6         7         8         9         10  \\\n",
            "Group 1                   s2       s2        s2        s2        s3        s3   \n",
            "Group 2                   s3       w1        w2        w3        w1        w2   \n",
            "Test Statistic (Z) -2.646938  5.04971 -6.119676  2.971492  8.209396 -4.164323   \n",
            "p-value             0.008122      0.0       0.0  0.002964       0.0  0.000031   \n",
            "\n",
            "                          11        12        13        14  \n",
            "Group 1                   s3        w1        w1        w2  \n",
            "Group 2                   w3        w2        w3        w3  \n",
            "Test Statistic (Z)  5.891492 -11.00967 -2.040997  9.000331  \n",
            "p-value                  0.0       0.0  0.041251       0.0  \n",
            "Transposed results saved to /content/wilcoxon_test_results_transposed.xlsx\n"
          ]
        }
      ],
      "source": [
        "import pandas as pd\n",
        "import numpy as np\n",
        "from scipy.stats import ranksums\n",
        "from itertools import combinations\n",
        "\n",
        "# Function to perform Wilcoxon rank-sum test (Mann-Whitney U test)\n",
        "def wilcoxon_test(group1, group2):\n",
        "    test_stat, p_value = ranksums(group1, group2)\n",
        "    return test_stat, p_value\n",
        "\n",
        "# Define the file path to your Excel file\n",
        "file_path = '/content/size outliers removed.xlsx'  # Modify the file path to your Excel file\n",
        "\n",
        "# Read data from Excel\n",
        "data = pd.read_excel(file_path)\n",
        "\n",
        "# Define your dataset names (these should match the column names in your Excel file)\n",
        "dataset_names = ['s1', 's2', 's3', 'w1','w2','w3']\n",
        "\n",
        "# Extract datasets from the Excel file\n",
        "datasets = {name: data[name].dropna().values for name in dataset_names}\n",
        "\n",
        "# Generate all combinations of two distinct datasets\n",
        "combinations_list = list(combinations(datasets.keys(), 2))\n",
        "\n",
        "# Initialize a list to store results\n",
        "results = []\n",
        "\n",
        "# Perform the Wilcoxon rank-sum test for each combination\n",
        "for combo in combinations_list:\n",
        "    group1 = datasets[combo[0]]\n",
        "    group2 = datasets[combo[1]]\n",
        "\n",
        "    # Perform the test\n",
        "    test_stat, p_value = wilcoxon_test(group1, group2)\n",
        "\n",
        "    # Store the results\n",
        "    results.append([combo[0], combo[1], test_stat, p_value])\n",
        "\n",
        "# Convert results to a DataFrame\n",
        "results_df = pd.DataFrame(results, columns=['Group 1', 'Group 2', 'Test Statistic (Z)', 'p-value'])\n",
        "\n",
        "# Transpose the DataFrame before saving it to Excel\n",
        "transposed_results_df = results_df.T\n",
        "\n",
        "# Display the transposed result table in Colab\n",
        "print(transposed_results_df)\n",
        "\n",
        "# Define the output file path for Excel\n",
        "output_file_path = '/content/wilcoxon_test_results_transposed.xlsx'\n",
        "\n",
        "# Save the transposed results to an Excel file\n",
        "transposed_results_df.to_excel(output_file_path, index=True)\n",
        "\n",
        "# Print a message indicating where the results are saved\n",
        "print(f\"Transposed results saved to {output_file_path}\")\n",
        "\n"
      ]
    }
  ]
}