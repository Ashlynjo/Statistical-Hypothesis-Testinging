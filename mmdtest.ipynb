{
  "nbformat": 4,
  "nbformat_minor": 0,
  "metadata": {
    "colab": {
      "provenance": []
    },
    "kernelspec": {
      "name": "python3",
      "display_name": "Python 3"
    },
    "language_info": {
      "name": "python"
    }
  },
  "cells": [
    {
      "cell_type": "code",
      "execution_count": null,
      "metadata": {
        "id": "rZcIequJsSyi",
        "colab": {
          "base_uri": "https://localhost:8080/"
        },
        "outputId": "4ebbcf01-c964-47cc-f591-205cbf16b214"
      },
      "outputs": [
        {
          "output_type": "stream",
          "name": "stdout",
          "text": [
            "               0         1         2         3         4         5         6   \\\n",
            "Group 1        s1        s1        s1        s1        s1        s2        s2   \n",
            "Group 2        s2        s3        w1        w2        w3        s3        w1   \n",
            "MMD      0.041558  0.028744  0.103174  0.012499  0.079795  0.002683  0.016146   \n",
            "\n",
            "               7         8        9         10        11        12        13  \\\n",
            "Group 1        s2        s2       s3        s3        s3        w1        w1   \n",
            "Group 2        w2        w3       w1        w2        w3        w2        w3   \n",
            "MMD      0.020359  0.008128  0.02818  0.008855  0.016755  0.068159  0.001571   \n",
            "\n",
            "              14  \n",
            "Group 1       w2  \n",
            "Group 2       w3  \n",
            "MMD      0.04951  \n"
          ]
        }
      ],
      "source": [
        "import pandas as pd\n",
        "import numpy as np\n",
        "from scipy.stats import norm\n",
        "\n",
        "def rbf_kernel(X, Y, gamma=1.0):\n",
        "    \"\"\" Radial Basis Function (RBF) kernel \"\"\"\n",
        "    sq_dists = np.sum(X**2, 1).reshape(-1, 1) + np.sum(Y**2, 1) - 2 * np.dot(X, Y.T)\n",
        "    return np.exp(-gamma * sq_dists)\n",
        "\n",
        "def mmd(X, Y, gamma=1.0):\n",
        "    \"\"\" Maximum Mean Discrepancy (MMD) \"\"\"\n",
        "    K_xx = rbf_kernel(X, X, gamma)\n",
        "    K_yy = rbf_kernel(Y, Y, gamma)\n",
        "    K_xy = rbf_kernel(X, Y, gamma)\n",
        "\n",
        "    mmd_value = K_xx.mean() + K_yy.mean() - 2 * K_xy.mean()\n",
        "    return mmd_value\n",
        "\n",
        "# Read data from an Excel file\n",
        "file_path = '/content/size outliers removed.xlsx'  # Replace with your file path\n",
        "data = pd.read_excel(file_path)\n",
        "\n",
        "# Specify the dataset columns you want to analyze\n",
        "datasets = ['s1', 's2', 's3', 'w1','w2','w3']\n",
        "\n",
        "# Create a list to hold the results\n",
        "mmd_results = []\n",
        "\n",
        "# Iterate over all unique pairs of datasets\n",
        "for i in range(len(datasets)):\n",
        "    for j in range(i + 1, len(datasets)):\n",
        "        group1 = data[datasets[i]].dropna().values.reshape(-1, 1)  # Reshape for kernel function\n",
        "        group2 = data[datasets[j]].dropna().values.reshape(-1, 1)  # Reshape for kernel function\n",
        "\n",
        "        # Perform the MMD test\n",
        "        mmd_value = mmd(group1, group2)\n",
        "\n",
        "        # Append the results to the list\n",
        "        mmd_results.append({\n",
        "            'Group 1': datasets[i],\n",
        "            'Group 2': datasets[j],\n",
        "            'MMD': mmd_value\n",
        "        })\n",
        "\n",
        "# Convert the results to a DataFrame\n",
        "mmd_results_df = pd.DataFrame(mmd_results)\n",
        "\n",
        "# Transpose the results DataFrame\n",
        "mmd_results_df_transposed = mmd_results_df.T\n",
        "\n",
        "# Output the transposed results to an Excel file\n",
        "mmd_results_df_transposed.to_excel('mmd_test_results_transposed.xlsx', index=True)\n",
        "\n",
        "# Print the transposed results\n",
        "print(mmd_results_df_transposed)\n"
      ]
    }
  ]
}