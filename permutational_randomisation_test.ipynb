{
  "nbformat": 4,
  "nbformat_minor": 0,
  "metadata": {
    "colab": {
      "provenance": []
    },
    "kernelspec": {
      "name": "python3",
      "display_name": "Python 3"
    },
    "language_info": {
      "name": "python"
    }
  },
  "cells": [
    {
      "cell_type": "code",
      "execution_count": null,
      "metadata": {
        "colab": {
          "base_uri": "https://localhost:8080/"
        },
        "id": "omugFFECUcAR",
        "outputId": "da7ad556-183a-4ee3-b370-d78b58e84552"
      },
      "outputs": [
        {
          "output_type": "stream",
          "name": "stdout",
          "text": [
            "Results saved to Excel file: /content/permutational_randomization_test_results.xlsx\n"
          ]
        }
      ],
      "source": [
        "import pandas as pd\n",
        "import numpy as np\n",
        "\n",
        "def permutational_randomization_test(data, n_permutations=10000):\n",
        "    # Calculate observed means and their difference\n",
        "    observed_means = [np.mean(group) for group in data]\n",
        "    observed_difference = max(observed_means) - min(observed_means)\n",
        "\n",
        "    # Combine all data into one array\n",
        "    combined_data = np.concatenate(data)\n",
        "    count_greater = 0\n",
        "\n",
        "    # Get the sizes of the original groups\n",
        "    group_sizes = [len(group) for group in data]\n",
        "\n",
        "    for _ in range(n_permutations):\n",
        "        np.random.shuffle(combined_data)  # Randomly permute the combined data\n",
        "\n",
        "        # Reassign the permuted data to groups based on original sizes\n",
        "        permuted_groups = []\n",
        "        start_index = 0\n",
        "        for size in group_sizes:\n",
        "            permuted_groups.append(combined_data[start_index:start_index + size])\n",
        "            start_index += size\n",
        "\n",
        "        permuted_means = [np.mean(group) for group in permuted_groups]\n",
        "        permuted_difference = max(permuted_means) - min(permuted_means)\n",
        "\n",
        "        if permuted_difference >= observed_difference:\n",
        "            count_greater += 1\n",
        "\n",
        "    p_value = count_greater / n_permutations\n",
        "    return observed_difference, p_value\n",
        "\n",
        "# Read data from an Excel file\n",
        "file_path = '/content/size outliers removed.xlsx'  # Replace with your file path\n",
        "data = pd.read_excel(file_path)\n",
        "\n",
        "# Assuming the datasets are in columns labeled 's1', 's2', 's3', 'w1', 'w2', 'w3'\n",
        "groups = [data['s1'].dropna().values, data['s2'].dropna().values,\n",
        "          data['s3'].dropna().values, data['w1'].dropna().values,\n",
        "          data['w2'].dropna().values, data['w3'].dropna().values]\n",
        "\n",
        "# Run the Permutational Randomization Test\n",
        "observed_difference, p_value = permutational_randomization_test(groups)\n",
        "\n",
        "# Prepare results for Excel output\n",
        "results = {\n",
        "    \"Observed Mean Difference\": [observed_difference],\n",
        "    \"p-value\": [p_value],\n",
        "    \"Conclusion\": [\"Reject the null hypothesis (groups have significant differences)\" if p_value < 0.05 else \"Fail to reject the null hypothesis (no significant difference in means)\"]\n",
        "}\n",
        "\n",
        "# Create DataFrame and export to Excel\n",
        "results_df = pd.DataFrame(results)\n",
        "output_file_path = '/content/permutational_randomization_test_results.xlsx'  # Replace with your desired output path\n",
        "results_df.to_excel(output_file_path, index=False)\n",
        "\n",
        "print(\"Results saved to Excel file:\", output_file_path)\n"
      ]
    },
    {
      "cell_type": "markdown",
      "source": [
        "permutational randomisation test"
      ],
      "metadata": {
        "id": "GfqpCOgKUdNn"
      }
    }
  ]
}