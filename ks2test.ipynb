{
  "nbformat": 4,
  "nbformat_minor": 0,
  "metadata": {
    "colab": {
      "provenance": []
    },
    "kernelspec": {
      "name": "python3",
      "display_name": "Python 3"
    },
    "language_info": {
      "name": "python"
    }
  },
  "cells": [
    {
      "cell_type": "code",
      "execution_count": null,
      "metadata": {
        "colab": {
          "base_uri": "https://localhost:8080/"
        },
        "id": "tSQWuV3Dr1gG",
        "outputId": "fbe0f397-edf4-4c7b-9c0c-1f20858b2e34"
      },
      "outputs": [
        {
          "output_type": "stream",
          "name": "stdout",
          "text": [
            "                    0         1         2         3         4         5   \\\n",
            "Group 1             s1        s1        s1        s1        s1        s2   \n",
            "Group 2             s2        s3        w1        w2        w3        s3   \n",
            "KS Statistic  0.204285  0.186395  0.310717  0.136288  0.266342  0.072137   \n",
            "p-value            0.0       0.0       0.0  0.000482       0.0  0.014152   \n",
            "\n",
            "                    6         7         8         9         10        11  \\\n",
            "Group 1             s2        s2        s2        s3        s3        s3   \n",
            "Group 2             w1        w2        w3        w1        w2        w3   \n",
            "KS Statistic  0.138276  0.139164  0.094714  0.178105  0.094811  0.141329   \n",
            "p-value            0.0  0.000004  0.000918       0.0  0.002415       0.0   \n",
            "\n",
            "                    12        13        14  \n",
            "Group 1             w1        w1        w2  \n",
            "Group 2             w2        w3        w3  \n",
            "KS Statistic  0.252093  0.060035  0.216848  \n",
            "p-value            0.0   0.08099       0.0  \n",
            "Transposed KS test results saved to 'ks_test_results_transposed.xlsx'\n"
          ]
        }
      ],
      "source": [
        "import pandas as pd\n",
        "import numpy as np\n",
        "from scipy.stats import ks_2samp\n",
        "\n",
        "# Read data from an Excel file\n",
        "file_path = '/content/size outliers removed.xlsx'  # Replace with your file path\n",
        "data = pd.read_excel(file_path)\n",
        "\n",
        "# Specify the dataset columns you want to analyze\n",
        "datasets = ['s1', 's2', 's3', 'w1','w2','w3']\n",
        "\n",
        "# Create a list to hold the results\n",
        "ks_results = []\n",
        "\n",
        "# Iterate over all unique pairs of datasets\n",
        "for i in range(len(datasets)):\n",
        "    for j in range(i + 1, len(datasets)):\n",
        "        group1 = data[datasets[i]].dropna().values\n",
        "        group2 = data[datasets[j]].dropna().values\n",
        "\n",
        "        # Perform the KS test\n",
        "        ks_statistic, p_value = ks_2samp(group1, group2)\n",
        "\n",
        "        # Append the results to the list\n",
        "        ks_results.append({\n",
        "            'Group 1': datasets[i],\n",
        "            'Group 2': datasets[j],\n",
        "            'KS Statistic': ks_statistic,\n",
        "            'p-value': p_value\n",
        "        })\n",
        "\n",
        "# Convert the results to a DataFrame\n",
        "ks_results_df = pd.DataFrame(ks_results)\n",
        "\n",
        "# Transpose the DataFrame before saving it to Excel\n",
        "transposed_ks_results_df = ks_results_df.T\n",
        "\n",
        "# Output the transposed results to an Excel file\n",
        "transposed_ks_results_df.to_excel('ks_test_results_transposed.xlsx', index=True)\n",
        "\n",
        "# Print the transposed results in Colab\n",
        "print(transposed_ks_results_df)\n",
        "\n",
        "# Print a message indicating where the results are saved\n",
        "print(\"Transposed KS test results saved to 'ks_test_results_transposed.xlsx'\")\n"
      ]
    }
  ]
}