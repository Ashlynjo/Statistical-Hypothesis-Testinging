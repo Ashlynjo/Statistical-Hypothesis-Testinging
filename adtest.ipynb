{
  "nbformat": 4,
  "nbformat_minor": 0,
  "metadata": {
    "colab": {
      "provenance": []
    },
    "kernelspec": {
      "name": "python3",
      "display_name": "Python 3"
    },
    "language_info": {
      "name": "python"
    }
  },
  "cells": [
    {
      "cell_type": "code",
      "execution_count": null,
      "metadata": {
        "colab": {
          "base_uri": "https://localhost:8080/"
        },
        "id": "l0vws60L7LH3",
        "outputId": "d57aaa84-0bfb-44e7-e859-d7d10a0eea4f"
      },
      "outputs": [
        {
          "output_type": "stream",
          "name": "stdout",
          "text": [
            "   AD Statistic          Significance Levels  \\\n",
            "s1     1.061919  [15.0, 10.0, 5.0, 2.5, 1.0]   \n",
            "s2     2.706902  [15.0, 10.0, 5.0, 2.5, 1.0]   \n",
            "s3     1.881243  [15.0, 10.0, 5.0, 2.5, 1.0]   \n",
            "w1     0.670946  [15.0, 10.0, 5.0, 2.5, 1.0]   \n",
            "w2     0.464925  [15.0, 10.0, 5.0, 2.5, 1.0]   \n",
            "w3    11.731744  [15.0, 10.0, 5.0, 2.5, 1.0]   \n",
            "\n",
            "                        Critical Values  \\\n",
            "s1    [0.57, 0.649, 0.779, 0.908, 1.08]   \n",
            "s2  [0.573, 0.653, 0.783, 0.914, 1.087]   \n",
            "s3  [0.574, 0.654, 0.784, 0.915, 1.088]   \n",
            "w1  [0.573, 0.653, 0.784, 0.914, 1.087]   \n",
            "w2  [0.572, 0.651, 0.782, 0.912, 1.084]   \n",
            "w3  [0.573, 0.653, 0.783, 0.914, 1.087]   \n",
            "\n",
            "                                     Normality Result Estimated p-value  \n",
            "s1   [Reject, Reject, Reject, Reject, Fail to Reject]           >= 0.15  \n",
            "s2           [Reject, Reject, Reject, Reject, Reject]            < 0.01  \n",
            "s3           [Reject, Reject, Reject, Reject, Reject]            < 0.01  \n",
            "w1  [Reject, Reject, Fail to Reject, Fail to Rejec...           >= 0.15  \n",
            "w2  [Fail to Reject, Fail to Reject, Fail to Rejec...           >= 0.15  \n",
            "w3           [Reject, Reject, Reject, Reject, Reject]            < 0.01  \n"
          ]
        }
      ],
      "source": [
        "import pandas as pd\n",
        "import numpy as np\n",
        "from scipy.stats import anderson\n",
        "\n",
        "# Read data from an Excel file\n",
        "file_path = '/content/size outliers removed.xlsx'  # Replace with your file path\n",
        "data = pd.read_excel(file_path)\n",
        "\n",
        "# Specify the dataset columns you want to analyze\n",
        "datasets = ['s1', 's2', 's3', 'w1','w2','w3']\n",
        "\n",
        "# Initialize a dictionary to store the results\n",
        "ad_test_results = {}\n",
        "\n",
        "# Perform the Anderson-Darling test for each dataset\n",
        "for ds in datasets:\n",
        "    group = data[ds].dropna().values  # Remove NaN values\n",
        "    result = anderson(group)\n",
        "\n",
        "    # Compare AD statistic to critical values and note significance level\n",
        "    significance_results = []\n",
        "    for stat, sig_level in zip(result.critical_values, result.significance_level):\n",
        "        significance_results.append(\"Reject\" if result.statistic > stat else \"Fail to Reject\")\n",
        "\n",
        "    # Estimate p-value based on the AD statistic\n",
        "    # Assign p-value categories based on the AD statistic\n",
        "    if result.statistic > result.critical_values[0]:  # 15% level\n",
        "        p_value = '< 0.15'\n",
        "    if result.statistic > result.critical_values[1]:  # 10% level\n",
        "        p_value = '< 0.10'\n",
        "    if result.statistic > result.critical_values[2]:  # 5% level\n",
        "        p_value = '< 0.05'\n",
        "    if result.statistic > result.critical_values[3]:  # 2.5% level\n",
        "        p_value = '< 0.025'\n",
        "    if result.statistic > result.critical_values[4]:  # 1% level\n",
        "        p_value = '< 0.01'\n",
        "    else:\n",
        "        p_value = '>= 0.15'  # Default if none of the conditions met\n",
        "\n",
        "    # Store the results in a format that includes significance details\n",
        "    ad_test_results[ds] = {\n",
        "        'AD Statistic': result.statistic,\n",
        "        'Significance Levels': result.significance_level,\n",
        "        'Critical Values': result.critical_values,\n",
        "        'Normality Result': significance_results,\n",
        "        'Estimated p-value': p_value  # Added estimated p-value\n",
        "    }\n",
        "\n",
        "# Convert the dictionary to a DataFrame and transpose it for easier readability\n",
        "ad_test_results_df = pd.DataFrame(ad_test_results).T\n",
        "\n",
        "# Output the transposed results to an Excel file\n",
        "output_file_path = 'ad_test_results_transposed.xlsx'\n",
        "ad_test_results_df.to_excel(output_file_path, index=True)\n",
        "\n",
        "# Display the transposed results in Colab\n",
        "print(ad_test_results_df)\n",
        "\n"
      ]
    }
  ]
}